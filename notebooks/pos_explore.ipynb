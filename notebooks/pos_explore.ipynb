{
 "cells": [
  {
   "cell_type": "code",
   "execution_count": 69,
   "metadata": {},
   "outputs": [],
   "source": [
    "import pandas as pd\n",
    "import tkinter\n",
    "from tkinter import *"
   ]
  },
  {
   "cell_type": "code",
   "execution_count": 70,
   "metadata": {},
   "outputs": [],
   "source": [
    "class POS:\n",
    "    def __init__(self):\n",
    "        self.inventory = {}\n",
    "        self.cart = {}\n",
    "\n",
    "    def read_inventory(self):\n",
    "        inventory = pd.read_csv('Inventory.csv')\n",
    "\n",
    "    def add_to_cart(self, name, quantity):\n",
    "        if name in self.inventory:\n",
    "            if name in self.cart:\n",
    "                self.cart[name] += quantity\n",
    "            else:\n",
    "                self.cart[name] = quantity\n",
    "        else:\n",
    "            print(\"Item not found or insufficient quantity.\")\n",
    "\n",
    "    def calculate_total(self, payment_method):\n",
    "        total = 0\n",
    "        for item, quantity in self.cart.items():\n",
    "            total += self.inventory[item]['price'] * quantity\n",
    "        if payment_method == 'credit':\n",
    "            total *= .025\n",
    "        return total\n",
    "\n",
    "    def checkout(self, payment_method):\n",
    "        total = self.calculate_total(payment_method)\n",
    "        print(\"Total: $\", total)\n",
    "        self.cart = {}\n",
    "\n",
    "pos = POS()"
   ]
  },
  {
   "cell_type": "code",
   "execution_count": 71,
   "metadata": {},
   "outputs": [
    {
     "data": {
      "text/html": [
       "<div>\n",
       "<style scoped>\n",
       "    .dataframe tbody tr th:only-of-type {\n",
       "        vertical-align: middle;\n",
       "    }\n",
       "\n",
       "    .dataframe tbody tr th {\n",
       "        vertical-align: top;\n",
       "    }\n",
       "\n",
       "    .dataframe thead th {\n",
       "        text-align: right;\n",
       "    }\n",
       "</style>\n",
       "<table border=\"1\" class=\"dataframe\">\n",
       "  <thead>\n",
       "    <tr style=\"text-align: right;\">\n",
       "      <th></th>\n",
       "      <th>Item</th>\n",
       "      <th>Category</th>\n",
       "      <th>Package</th>\n",
       "      <th>Price</th>\n",
       "    </tr>\n",
       "  </thead>\n",
       "  <tbody>\n",
       "    <tr>\n",
       "      <th>1</th>\n",
       "      <td>Cinnamon Milk Bread</td>\n",
       "      <td>Bread</td>\n",
       "      <td>Single</td>\n",
       "      <td>5.5</td>\n",
       "    </tr>\n",
       "    <tr>\n",
       "      <th>0</th>\n",
       "      <td>Sesame Milk Bread</td>\n",
       "      <td>Bread</td>\n",
       "      <td>Single</td>\n",
       "      <td>5.5</td>\n",
       "    </tr>\n",
       "    <tr>\n",
       "      <th>5</th>\n",
       "      <td>Double Chocolate Cookie</td>\n",
       "      <td>Cookie</td>\n",
       "      <td>Box</td>\n",
       "      <td>21.0</td>\n",
       "    </tr>\n",
       "    <tr>\n",
       "      <th>4</th>\n",
       "      <td>Double Chocolate Cookie</td>\n",
       "      <td>Cookie</td>\n",
       "      <td>Single</td>\n",
       "      <td>5.5</td>\n",
       "    </tr>\n",
       "    <tr>\n",
       "      <th>3</th>\n",
       "      <td>Toffee Cookie</td>\n",
       "      <td>Cookie</td>\n",
       "      <td>Box</td>\n",
       "      <td>22.0</td>\n",
       "    </tr>\n",
       "  </tbody>\n",
       "</table>\n",
       "</div>"
      ],
      "text/plain": [
       "                      Item Category Package  Price\n",
       "1      Cinnamon Milk Bread    Bread  Single    5.5\n",
       "0        Sesame Milk Bread    Bread  Single    5.5\n",
       "5  Double Chocolate Cookie   Cookie     Box   21.0\n",
       "4  Double Chocolate Cookie   Cookie  Single    5.5\n",
       "3            Toffee Cookie   Cookie     Box   22.0"
      ]
     },
     "execution_count": 71,
     "metadata": {},
     "output_type": "execute_result"
    }
   ],
   "source": [
    "inventory = pd.read_csv('Inventory.csv')\n",
    "inventory['Price'] = inventory['Price'].str.replace('$', '').str.replace(',', '').astype(float)\n",
    "inventory = inventory.sort_values(['Category', 'Item', 'Package'])\n",
    "inventory.head()"
   ]
  },
  {
   "cell_type": "code",
   "execution_count": 72,
   "metadata": {},
   "outputs": [
    {
     "data": {
      "text/plain": [
       "{('Cinnamon Milk Bread', 'Single'): 5.5,\n",
       " ('Sesame Milk Bread', 'Single'): 5.5,\n",
       " ('Double Chocolate Cookie', 'Box'): 21.0,\n",
       " ('Double Chocolate Cookie', 'Single'): 5.5,\n",
       " ('Toffee Cookie', 'Box'): 22.0,\n",
       " ('Toffee Cookie', 'Single'): 5.75}"
      ]
     },
     "execution_count": 72,
     "metadata": {},
     "output_type": "execute_result"
    }
   ],
   "source": [
    "price_dict = inventory.drop('Category', axis=1).set_index(['Item', 'Package']).to_dict()['Price']\n",
    "price_dict"
   ]
  },
  {
   "cell_type": "code",
   "execution_count": 73,
   "metadata": {},
   "outputs": [
    {
     "data": {
      "text/plain": [
       "{'Cinnamon Milk Bread': ['Single'],\n",
       " 'Double Chocolate Cookie': ['Box', 'Single'],\n",
       " 'Sesame Milk Bread': ['Single'],\n",
       " 'Toffee Cookie': ['Box', 'Single']}"
      ]
     },
     "execution_count": 73,
     "metadata": {},
     "output_type": "execute_result"
    }
   ],
   "source": [
    "packaging = inventory[['Item', 'Package']].groupby('Item').agg(list).to_dict()['Package']\n",
    "packaging"
   ]
  },
  {
   "cell_type": "code",
   "execution_count": 102,
   "metadata": {},
   "outputs": [
    {
     "data": {
      "text/plain": [
       "{'Cinnamon Milk Bread': {'Single': 5.5},\n",
       " 'Sesame Milk Bread': {'Single': 5.5},\n",
       " 'Double Chocolate Cookie': {'Box': 21.0, 'Single': 5.5},\n",
       " 'Toffee Cookie': {'Box': 22.0, 'Single': 5.75}}"
      ]
     },
     "execution_count": 102,
     "metadata": {},
     "output_type": "execute_result"
    }
   ],
   "source": [
    "d = dict()\n",
    "def inventory_dict_translate(row):\n",
    "    item = row['Item']\n",
    "    package = row['Package']\n",
    "    price = row['Price']\n",
    "    if item in d.keys():\n",
    "        d[item][package] = price\n",
    "    else:\n",
    "        d[item] = {package:price}\n",
    "    \n",
    "inventory.apply(lambda x: dict_translate(x), axis=1)\n",
    "\n",
    "d"
   ]
  },
  {
   "cell_type": "code",
   "execution_count": 189,
   "metadata": {},
   "outputs": [
    {
     "data": {
      "text/plain": [
       "{'Item': {'Package': 'Price'},\n",
       " 'Sesame Milk Bread': {'Single': '$5.50 '},\n",
       " 'Cinnamon Milk Bread': {'Single': '$5.50 '},\n",
       " 'Toffee Cookie': {'Single': '$5.75 ', 'Box': '$22.00 '},\n",
       " 'Double Chocolate Cookie': {'Single': '$5.50 ', 'Box': '$21.00 '},\n",
       " 'Smores Brownie': {'Single': '$8.00 ', 'Box': '$33.00 '}}"
      ]
     },
     "execution_count": 189,
     "metadata": {},
     "output_type": "execute_result"
    }
   ],
   "source": [
    "import csv\n",
    "inventory = dict()\n",
    "with open('Inventory.csv', 'r') as csv_file:\n",
    "    csv_reader = csv.reader(csv_file, delimiter=',')\n",
    "    for row in csv_reader:\n",
    "        item = row[0]\n",
    "        package = row[2]\n",
    "        price = row[3]\n",
    "\n",
    "        if item in inventory.keys():\n",
    "            inventory[item][package] = price\n",
    "        else:\n",
    "            inventory[item] = {package:price}\n",
    "inventory"
   ]
  },
  {
   "cell_type": "code",
   "execution_count": 187,
   "metadata": {},
   "outputs": [
    {
     "data": {
      "text/plain": [
       "{'Smores Brownie': {'Box': '$33.00 '}}"
      ]
     },
     "execution_count": 187,
     "metadata": {},
     "output_type": "execute_result"
    }
   ],
   "source": [
    "inventory"
   ]
  },
  {
   "cell_type": "code",
   "execution_count": 234,
   "metadata": {},
   "outputs": [],
   "source": [
    "import tkinter as tk\n",
    "from tkinter import messagebox\n",
    "from tkinter import font\n",
    "from datetime import datetime\n",
    "from pytz import timezone\n",
    "import math\n",
    "import csv\n",
    "\n",
    "class POS:\n",
    "    def __init__(self, master):\n",
    "        self.master = master\n",
    "        self.read_inventory()\n",
    "        self.app_config()\n",
    "\n",
    "    def read_inventory(self):\n",
    "        inventory = dict()\n",
    "\n",
    "        with open('Inventory.csv', 'r') as csv_file:\n",
    "            \n",
    "            csv_reader = csv.reader(csv_file, delimiter=',')\n",
    "\n",
    "            for row in csv_reader:\n",
    "\n",
    "                item = row[0]\n",
    "                if item != 'Item':\n",
    "                    package = row[2]\n",
    "                    price = row[3].replace('$','').replace(' ','')\n",
    "                    price = float(price)\n",
    "\n",
    "                    if item in inventory.keys():\n",
    "                        inventory[item][package] = price\n",
    "                    else:\n",
    "                        inventory[item] = {package:price}\n",
    "\n",
    "        self.inventory = inventory\n",
    "\n",
    "    def app_config(self):\n",
    "\n",
    "        default_font = font.nametofont('TkDefaultFont')\n",
    "        default_font.configure(size=18)\n",
    "        self.master.title('Evjoy POS system')\n",
    "\n",
    "        frm_item = tk.Frame(self.master, borderwidth=3, padx=5, pady=5)\n",
    "        frm_item.pack(fill='x')\n",
    "\n",
    "        max_cols = 0\n",
    "\n",
    "        for i, item in enumerate(self.inventory.keys()):\n",
    "            lbl_item = tk.Label(frm_item, text=item)\n",
    "            lbl_item.grid(row=i, column=0, sticky='w')\n",
    "            for j,package in enumerate(self.inventory[item].keys()):\n",
    "                max_cols = j if j > max_cols else max_cols\n",
    "                btn_product = tk.Button(frm_item, text=package, command=lambda x=(item,package):self.add_item(f\"{x[0]}-{x[1]}\", self.inventory[x[0]][x[1]]))\n",
    "                btn_product.grid(row=i, column=j+1, sticky='ew')\n",
    "\n",
    "        frm_item.columnconfigure(0, weight=1)\n",
    "        for col in range(max_cols+1):\n",
    "            frm_item.columnconfigure(col+1, weight=1)\n",
    "\n",
    "        frm_cart = tk.Frame(self.master, borderwidth=3, padx=5, pady=5)\n",
    "        frm_cart.pack(fill='x')\n",
    "        frm_cart.columnconfigure([0,1], weight=1)\n",
    "        lbl_cart = tk.Label(frm_cart, text=\"Cart:\")\n",
    "        lbl_cart.grid(row=0, column=0, sticky='w')\n",
    "        self.cart_text = tk.Text(frm_cart, height=10, width=40)\n",
    "        self.cart_text.grid(row=1, column=0, columnspan=2, sticky='ew')\n",
    "        self.subtotal_label = tk.Label(frm_cart, text=\"Subtotal: $0.00\")\n",
    "        self.subtotal_label.grid(row=3, column=0, columnspan=2)\n",
    "\n",
    "        self.cart = []\n",
    "        self.subtotal = 0\n",
    "        self.total = 0\n",
    "\n",
    "        frm_final = tk.Frame(self.master, padx=5, pady=5)\n",
    "        frm_final.pack()\n",
    "        btn_cash = tk.Button(frm_final, text='Cash Payment', command=lambda: self.calc_total('cash'))\n",
    "        btn_cash.grid(row=0, column=0)\n",
    "        btn_credit = tk.Button(frm_final, text='Credit Payment', command=lambda: self.calc_total('credit'))\n",
    "        btn_credit.grid(row=0, column=1)\n",
    "        self.lbl_total = tk.Label(frm_final, text='Total: $0.00')\n",
    "        self.lbl_total.grid(row=1,column=0, columnspan=2)\n",
    "        btn_clear = tk.Button(frm_final, text='Cancel/Clear Form', command=lambda: self.cancel_order())\n",
    "        btn_clear.grid(row=2, column=0)\n",
    "        self.btn_submit = tk.Button(frm_final, text='Submit Order Record', command=lambda: self.submit_order(), state=tk.DISABLED)\n",
    "        self.btn_submit.grid(row=2, column=1)\n",
    "        \n",
    "\n",
    "    def add_item(self, name, price):\n",
    "        self.cart.append((name, price))\n",
    "        self.update_cart()\n",
    "        self.btn_submit.config(state=tk.DISABLED)\n",
    "\n",
    "    def update_cart(self):\n",
    "        self.cart_text.delete(\"1.0\", tk.END)\n",
    "        for item, price in self.cart:\n",
    "            self.cart_text.insert(tk.END, f\"{item} - ${price:.2f}\\n\")\n",
    "        if self.cart:\n",
    "            self.subtotal += price\n",
    "        else:\n",
    "            self.subtotal = 0.0\n",
    "        self.subtotal_label.config(text=f\"Subtotal: ${self.subtotal:.2f}\")\n",
    "\n",
    "    def calc_total(self, payment_method):\n",
    "        if payment_method == 'cash':\n",
    "            self.total = self.subtotal\n",
    "        else:\n",
    "            self.total = math.ceil((self.subtotal * 1.035 + .1) * 100) / 100\n",
    "        self.lbl_total.config(text=f\"Total: ${self.total:.2f}\")\n",
    "        self.btn_submit.config(state=tk.ACTIVE)\n",
    "\n",
    "    def submit_order(self):\n",
    "        self.record_order()\n",
    "        messagebox.showinfo(message=f\"Recorded order for ${self.total}\")\n",
    "        self.cart = []\n",
    "        self.total = 0.0\n",
    "        self.subtotal = 0.0\n",
    "        self.update_cart()\n",
    "        self.calc_total('cash')\n",
    "        self.btn_submit.config(state=tk.DISABLED)\n",
    "\n",
    "    def cancel_order(self):\n",
    "        self.cart = []\n",
    "        self.total = 0.0\n",
    "        self.subtotal = 0.0\n",
    "        self.update_cart()\n",
    "        self.calc_total('cash')\n",
    "        self.btn_submit.config(state=tk.DISABLED)\n",
    "\n",
    "    def record_order(self):\n",
    "        with open('Purchase_History.csv', 'a') as fd:\n",
    "            for i in self.cart:\n",
    "                item_package = i[0].split('-')\n",
    "                tz = timezone('EST')\n",
    "                timestamp = datetime.now(tz).strftime('%Y-%m-%d %H:%M:%S')\n",
    "                fd.write(','.join([item_package[0], item_package[1], str(i[1]), timestamp])+'\\n')\n",
    "        \n",
    "        \n",
    "\n",
    "\n",
    "\n",
    "root = tk.Tk()\n",
    "pos = POS(root)\n",
    "root.mainloop()"
   ]
  },
  {
   "cell_type": "code",
   "execution_count": 201,
   "metadata": {},
   "outputs": [
    {
     "ename": "RuntimeError",
     "evalue": "Too early to use font: no default root window",
     "output_type": "error",
     "traceback": [
      "\u001b[1;31m---------------------------------------------------------------------------\u001b[0m",
      "\u001b[1;31mRuntimeError\u001b[0m                              Traceback (most recent call last)",
      "Cell \u001b[1;32mIn[201], line 3\u001b[0m\n\u001b[0;32m      1\u001b[0m \u001b[38;5;28;01mfrom\u001b[39;00m \u001b[38;5;21;01mtkinter\u001b[39;00m \u001b[38;5;28;01mimport\u001b[39;00m font\n\u001b[1;32m----> 3\u001b[0m \u001b[43mfont\u001b[49m\u001b[38;5;241;43m.\u001b[39;49m\u001b[43mnametofont\u001b[49m\u001b[43m(\u001b[49m\u001b[38;5;124;43m'\u001b[39;49m\u001b[38;5;124;43mTkDefaultFont\u001b[39;49m\u001b[38;5;124;43m'\u001b[39;49m\u001b[43m)\u001b[49m\n",
      "File \u001b[1;32m~\\AppData\\Local\\Programs\\Python\\Python311\\Lib\\tkinter\\font.py:23\u001b[0m, in \u001b[0;36mnametofont\u001b[1;34m(name, root)\u001b[0m\n\u001b[0;32m     20\u001b[0m \u001b[38;5;28;01mdef\u001b[39;00m \u001b[38;5;21mnametofont\u001b[39m(name, root\u001b[38;5;241m=\u001b[39m\u001b[38;5;28;01mNone\u001b[39;00m):\n\u001b[0;32m     21\u001b[0m \u001b[38;5;250m    \u001b[39m\u001b[38;5;124;03m\"\"\"Given the name of a tk named font, returns a Font representation.\u001b[39;00m\n\u001b[0;32m     22\u001b[0m \u001b[38;5;124;03m    \"\"\"\u001b[39;00m\n\u001b[1;32m---> 23\u001b[0m     \u001b[38;5;28;01mreturn\u001b[39;00m \u001b[43mFont\u001b[49m\u001b[43m(\u001b[49m\u001b[43mname\u001b[49m\u001b[38;5;241;43m=\u001b[39;49m\u001b[43mname\u001b[49m\u001b[43m,\u001b[49m\u001b[43m \u001b[49m\u001b[43mexists\u001b[49m\u001b[38;5;241;43m=\u001b[39;49m\u001b[38;5;28;43;01mTrue\u001b[39;49;00m\u001b[43m,\u001b[49m\u001b[43m \u001b[49m\u001b[43mroot\u001b[49m\u001b[38;5;241;43m=\u001b[39;49m\u001b[43mroot\u001b[49m\u001b[43m)\u001b[49m\n",
      "File \u001b[1;32m~\\AppData\\Local\\Programs\\Python\\Python311\\Lib\\tkinter\\font.py:72\u001b[0m, in \u001b[0;36mFont.__init__\u001b[1;34m(self, root, font, name, exists, **options)\u001b[0m\n\u001b[0;32m     69\u001b[0m \u001b[38;5;28;01mdef\u001b[39;00m \u001b[38;5;21m__init__\u001b[39m(\u001b[38;5;28mself\u001b[39m, root\u001b[38;5;241m=\u001b[39m\u001b[38;5;28;01mNone\u001b[39;00m, font\u001b[38;5;241m=\u001b[39m\u001b[38;5;28;01mNone\u001b[39;00m, name\u001b[38;5;241m=\u001b[39m\u001b[38;5;28;01mNone\u001b[39;00m, exists\u001b[38;5;241m=\u001b[39m\u001b[38;5;28;01mFalse\u001b[39;00m,\n\u001b[0;32m     70\u001b[0m              \u001b[38;5;241m*\u001b[39m\u001b[38;5;241m*\u001b[39moptions):\n\u001b[0;32m     71\u001b[0m     \u001b[38;5;28;01mif\u001b[39;00m root \u001b[38;5;129;01mis\u001b[39;00m \u001b[38;5;28;01mNone\u001b[39;00m:\n\u001b[1;32m---> 72\u001b[0m         root \u001b[38;5;241m=\u001b[39m \u001b[43mtkinter\u001b[49m\u001b[38;5;241;43m.\u001b[39;49m\u001b[43m_get_default_root\u001b[49m\u001b[43m(\u001b[49m\u001b[38;5;124;43m'\u001b[39;49m\u001b[38;5;124;43muse font\u001b[39;49m\u001b[38;5;124;43m'\u001b[39;49m\u001b[43m)\u001b[49m\n\u001b[0;32m     73\u001b[0m     tk \u001b[38;5;241m=\u001b[39m \u001b[38;5;28mgetattr\u001b[39m(root, \u001b[38;5;124m'\u001b[39m\u001b[38;5;124mtk\u001b[39m\u001b[38;5;124m'\u001b[39m, root)\n\u001b[0;32m     74\u001b[0m     \u001b[38;5;28;01mif\u001b[39;00m font:\n\u001b[0;32m     75\u001b[0m         \u001b[38;5;66;03m# get actual settings corresponding to the given font\u001b[39;00m\n",
      "File \u001b[1;32m~\\AppData\\Local\\Programs\\Python\\Python311\\Lib\\tkinter\\__init__.py:319\u001b[0m, in \u001b[0;36m_get_default_root\u001b[1;34m(what)\u001b[0m\n\u001b[0;32m    317\u001b[0m \u001b[38;5;28;01mif\u001b[39;00m _default_root \u001b[38;5;129;01mis\u001b[39;00m \u001b[38;5;28;01mNone\u001b[39;00m:\n\u001b[0;32m    318\u001b[0m     \u001b[38;5;28;01mif\u001b[39;00m what:\n\u001b[1;32m--> 319\u001b[0m         \u001b[38;5;28;01mraise\u001b[39;00m \u001b[38;5;167;01mRuntimeError\u001b[39;00m(\u001b[38;5;124mf\u001b[39m\u001b[38;5;124m\"\u001b[39m\u001b[38;5;124mToo early to \u001b[39m\u001b[38;5;132;01m{\u001b[39;00mwhat\u001b[38;5;132;01m}\u001b[39;00m\u001b[38;5;124m: no default root window\u001b[39m\u001b[38;5;124m\"\u001b[39m)\n\u001b[0;32m    320\u001b[0m     root \u001b[38;5;241m=\u001b[39m Tk()\n\u001b[0;32m    321\u001b[0m     \u001b[38;5;28;01massert\u001b[39;00m _default_root \u001b[38;5;129;01mis\u001b[39;00m root\n",
      "\u001b[1;31mRuntimeError\u001b[0m: Too early to use font: no default root window"
     ]
    }
   ],
   "source": [
    "from tkinter import font\n",
    "\n",
    "font.nametofont('TkDefaultFont')"
   ]
  },
  {
   "cell_type": "code",
   "execution_count": 146,
   "metadata": {},
   "outputs": [
    {
     "data": {
      "text/html": [
       "<div>\n",
       "<style scoped>\n",
       "    .dataframe tbody tr th:only-of-type {\n",
       "        vertical-align: middle;\n",
       "    }\n",
       "\n",
       "    .dataframe tbody tr th {\n",
       "        vertical-align: top;\n",
       "    }\n",
       "\n",
       "    .dataframe thead th {\n",
       "        text-align: right;\n",
       "    }\n",
       "</style>\n",
       "<table border=\"1\" class=\"dataframe\">\n",
       "  <thead>\n",
       "    <tr style=\"text-align: right;\">\n",
       "      <th></th>\n",
       "      <th>Items</th>\n",
       "      <th>Packages</th>\n",
       "      <th>Prices</th>\n",
       "      <th>Timestamp</th>\n",
       "    </tr>\n",
       "  </thead>\n",
       "  <tbody>\n",
       "    <tr>\n",
       "      <th>0</th>\n",
       "      <td>Cinnamon Milk Bread</td>\n",
       "      <td>Single</td>\n",
       "      <td>5.50</td>\n",
       "      <td>2024-12-17 16:33:16</td>\n",
       "    </tr>\n",
       "    <tr>\n",
       "      <th>1</th>\n",
       "      <td>Sesame Milk Bread</td>\n",
       "      <td>Single</td>\n",
       "      <td>5.50</td>\n",
       "      <td>2024-12-17 16:33:16</td>\n",
       "    </tr>\n",
       "    <tr>\n",
       "      <th>2</th>\n",
       "      <td>Double Chocolate Cookie</td>\n",
       "      <td>Box</td>\n",
       "      <td>21.00</td>\n",
       "      <td>2024-12-17 16:33:16</td>\n",
       "    </tr>\n",
       "    <tr>\n",
       "      <th>3</th>\n",
       "      <td>Toffee Cookie</td>\n",
       "      <td>Single</td>\n",
       "      <td>5.75</td>\n",
       "      <td>2024-12-17 16:33:16</td>\n",
       "    </tr>\n",
       "  </tbody>\n",
       "</table>\n",
       "</div>"
      ],
      "text/plain": [
       "                     Items Packages  Prices            Timestamp\n",
       "0      Cinnamon Milk Bread   Single    5.50  2024-12-17 16:33:16\n",
       "1        Sesame Milk Bread   Single    5.50  2024-12-17 16:33:16\n",
       "2  Double Chocolate Cookie      Box   21.00  2024-12-17 16:33:16\n",
       "3            Toffee Cookie   Single    5.75  2024-12-17 16:33:16"
      ]
     },
     "execution_count": 146,
     "metadata": {},
     "output_type": "execute_result"
    }
   ],
   "source": [
    "from datetime import datetime\n",
    "from pytz import timezone\n",
    "\n",
    "items = []\n",
    "packages = []\n",
    "prices = []\n",
    "timestamp = []\n",
    "for i in order:\n",
    "    item_package = i[0].split('-')\n",
    "    items.append(item_package[0])\n",
    "    packages.append(item_package[1])\n",
    "    prices.append(i[1])\n",
    "    tz = timezone('EST')\n",
    "    timestamp.append(datetime.now(tz).strftime('%Y-%m-%d %H:%M:%S'))\n",
    "    \n",
    "pd.DataFrame({'Item':items, 'Package':packages,'Price':prices, 'Timestamp':timestamp})"
   ]
  },
  {
   "cell_type": "code",
   "execution_count": null,
   "metadata": {},
   "outputs": [],
   "source": [
    "with open('Purchase_History.csv', 'a') as fd:\n",
    "    for i in order:\n",
    "        item_package = i[0].split('-')\n",
    "        tz = timezone('EST')\n",
    "        timestamp = datetime.now(tz).strftime('%Y-%m-%d %H:%M:%S')\n",
    "        fd.write(','.join([item_package[0], item_package[1], str(i[1]), timestamp])+'\\n')\n",
    "    "
   ]
  },
  {
   "cell_type": "code",
   "execution_count": 148,
   "metadata": {},
   "outputs": [
    {
     "data": {
      "text/html": [
       "<div>\n",
       "<style scoped>\n",
       "    .dataframe tbody tr th:only-of-type {\n",
       "        vertical-align: middle;\n",
       "    }\n",
       "\n",
       "    .dataframe tbody tr th {\n",
       "        vertical-align: top;\n",
       "    }\n",
       "\n",
       "    .dataframe thead th {\n",
       "        text-align: right;\n",
       "    }\n",
       "</style>\n",
       "<table border=\"1\" class=\"dataframe\">\n",
       "  <thead>\n",
       "    <tr style=\"text-align: right;\">\n",
       "      <th></th>\n",
       "      <th>Item</th>\n",
       "      <th>Package</th>\n",
       "      <th>Price</th>\n",
       "      <th>Timestamp</th>\n",
       "    </tr>\n",
       "  </thead>\n",
       "  <tbody>\n",
       "  </tbody>\n",
       "</table>\n",
       "</div>"
      ],
      "text/plain": [
       "Empty DataFrame\n",
       "Columns: [Item, Package, Price, Timestamp]\n",
       "Index: []"
      ]
     },
     "execution_count": 148,
     "metadata": {},
     "output_type": "execute_result"
    }
   ],
   "source": [
    "pd.read_csv('Purchase_History.csv')"
   ]
  },
  {
   "cell_type": "code",
   "execution_count": 81,
   "metadata": {},
   "outputs": [],
   "source": [
    "import tkinter as tk\n",
    "\n",
    "class POS:\n",
    "    def __init__(self, master):\n",
    "        self.master = master\n",
    "        master.title(\"Simple POS System\")\n",
    "\n",
    "        # Product buttons\n",
    "        self.button1 = tk.Button(master, text=\"Product 1\", command=lambda: self.add_item(\"Product 1\", 10.0))\n",
    "        self.button1.grid(row=0, column=0)\n",
    "        self.button2 = tk.Button(master, text=\"Product 2\", command=lambda: self.add_item(\"Product 2\", 15.0))\n",
    "        self.button2.grid(row=0, column=1)\n",
    "\n",
    "        # Cart display\n",
    "        self.cart_label = tk.Label(master, text=\"Cart:\")\n",
    "        self.cart_label.grid(row=1, column=0)\n",
    "        self.cart_text = tk.Text(master, height=5, width=20)\n",
    "        self.cart_text.grid(row=2, column=0, columnspan=2)\n",
    "\n",
    "        # Total\n",
    "        self.total_label = tk.Label(master, text=\"Total: $0.00\")\n",
    "        self.total_label.grid(row=3, column=0, columnspan=2)\n",
    "\n",
    "        # Checkout button\n",
    "        self.checkout_button = tk.Button(master, text=\"Checkout\", command=self.checkout)\n",
    "        self.checkout_button.grid(row=4, column=0, columnspan=2)\n",
    "\n",
    "        self.cart = []\n",
    "        self.total = 0.0\n",
    "\n",
    "    def add_item(self, name, price):\n",
    "        self.cart.append((name, price))\n",
    "        self.update_cart()\n",
    "\n",
    "    def update_cart(self):\n",
    "        self.cart_text.delete(\"1.0\", tk.END)\n",
    "        for item, price in self.cart:\n",
    "            self.cart_text.insert(tk.END, f\"{item} - ${price:.2f}\\n\")\n",
    "        self.total += price\n",
    "        self.total_label.config(text=f\"Total: ${self.total:.2f}\")\n",
    "\n",
    "    def submit_order(self):\n",
    "        # Implement checkout logic here\n",
    "        # tk.messagebox.showinfo(\"Checkout\", \"Thank you for your purchase!\")\n",
    "        self.cart = []\n",
    "        self.total = 0.0\n",
    "        self.update_cart()\n",
    "\n",
    "    def cancel_order(self):\n",
    "        self.cart = []\n",
    "        self.total = 0.0\n",
    "        self.update_cart()\n",
    "\n",
    "root = tk.Tk()\n",
    "pos = POS(root)\n",
    "root.mainloop()\n"
   ]
  },
  {
   "cell_type": "code",
   "execution_count": 68,
   "metadata": {},
   "outputs": [],
   "source": [
    "import tkinter as tk\n",
    "import tkinter.ttk as ttk\n",
    "\n",
    "window = tk.Tk()\n",
    "\n",
    "labels = ['First Name', 'Last Name','Address Line 1', 'Address Line 2', 'City', 'State/Province', 'Postal Code', 'Contry']\n",
    "frm_form = tk.Frame(relief=tk.SUNKEN, borderwidth=3)\n",
    "frm_form.columnconfigure(1, weight=1, minsize=50)\n",
    "frm_form.pack(fill=tk.X)\n",
    "\n",
    "for i, label in enumerate(labels):\n",
    "    lbl = tk.Label(master=frm_form, text=label+':')\n",
    "    lbl.grid(row=i,column=0, sticky='ew')\n",
    "    ent = tk.Entry(master=frm_form)\n",
    "    ent.grid(row=i, column=1, sticky='ew')\n",
    "\n",
    "frm_btns = tk.Frame()\n",
    "frm_btns.pack(fill=tk.X)\n",
    "btn_clr = tk.Button(master=frm_btns, text='Clear')\n",
    "btn_clr.pack(side=tk.RIGHT, ipadx=10)\n",
    "\n",
    "btn_sbmt = tk.Button(master=frm_btns, text='Submit')\n",
    "btn_sbmt.pack(side=tk.RIGHT, padx=10, ipadx=10)\n",
    "\n",
    "\n",
    "window.mainloop()\n"
   ]
  },
  {
   "cell_type": "code",
   "execution_count": null,
   "metadata": {},
   "outputs": [],
   "source": []
  }
 ],
 "metadata": {
  "kernelspec": {
   "display_name": ".venv",
   "language": "python",
   "name": "python3"
  },
  "language_info": {
   "codemirror_mode": {
    "name": "ipython",
    "version": 3
   },
   "file_extension": ".py",
   "mimetype": "text/x-python",
   "name": "python",
   "nbconvert_exporter": "python",
   "pygments_lexer": "ipython3",
   "version": "3.10.4"
  }
 },
 "nbformat": 4,
 "nbformat_minor": 2
}
